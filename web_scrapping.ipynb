{
 "metadata": {
  "language_info": {
   "codemirror_mode": {
    "name": "ipython",
    "version": 3
   },
   "file_extension": ".py",
   "mimetype": "text/x-python",
   "name": "python",
   "nbconvert_exporter": "python",
   "pygments_lexer": "ipython3",
   "version": "3.8.2-final"
  },
  "orig_nbformat": 2,
  "kernelspec": {
   "name": "Python 3.8.2 32-bit",
   "display_name": "Python 3.8.2 32-bit",
   "metadata": {
    "interpreter": {
     "hash": "6fa8c4a0213b3e8e46e64ca221d4ef2f7254b1e53b83d6209b624a99d7aa7db4"
    }
   }
  }
 },
 "nbformat": 4,
 "nbformat_minor": 2,
 "cells": [
  {
   "cell_type": "code",
   "execution_count": 24,
   "metadata": {
    "tags": []
   },
   "outputs": [],
   "source": [
    "from bs4 import BeautifulSoup\n",
    "import requests\n",
    "import csv\n",
    "source = requests.get('https://www.gkseries.com/general-knowledge/geography/geo-tectonics/geography-mcqs').text\n",
    "soup = BeautifulSoup(source, 'lxml')\n",
    "csv_file=open('web_scraping.csv', 'w')\n",
    "csv_writer=csv.writer(csv_file)\n",
    "csv_writer.writerow(['QUESTION','OPTION: A','OPTION: B','OPTION: C','OPTION: D','ANSWER'])\n",
    "i=0\n",
    "for question in soup.find_all('div', class_=\"mcq\"):\n",
    "    question_content=question.find('div', class_=\"question-content\")\n",
    "    question_content.span.decompose()\n",
    "    i+=1\n",
    "    question_content=question_content.text.strip()\n",
    "    question_content=str(i)+\" \"+question_content\n",
    "    num=0\n",
    "    answer=question.find('div', class_=\"collapse\")\n",
    "    answer=answer.find('div', class_=\"card\")\n",
    "    answer=answer.find('blockquote').text.strip()\n",
    "    option_list=[]\n",
    "    for option in question.find_all('div', class_=\"option\"):\n",
    "        option.span.decompose()\n",
    "        num+=1\n",
    "        question_option=option.text\n",
    "        option_list.append(question_option)\n",
    "    converted_list=[]\n",
    "    for element in option_list:\n",
    "        converted_list.append(element.strip())\n",
    "    csv_writer.writerow([question_content,converted_list[0], converted_list[1], converted_list[2], converted_list[3], answer])\n",
    "\n",
    "csv_file.close()\n",
    "\n",
    "    "
   ]
  },
  {
   "cell_type": "code",
   "execution_count": null,
   "metadata": {},
   "outputs": [],
   "source": []
  }
 ]
}